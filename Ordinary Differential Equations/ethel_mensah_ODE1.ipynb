{
 "cells": [
  {
   "cell_type": "markdown",
   "id": "0c274a32",
   "metadata": {},
   "source": [
    "Question 7"
   ]
  },
  {
   "cell_type": "code",
   "execution_count": null,
   "id": "0b2a6898",
   "metadata": {},
   "outputs": [],
   "source": [
    "from IPython.display import Image\n",
    "Image(\"Ode\n",
    "      .png\")"
   ]
  },
  {
   "cell_type": "markdown",
   "id": "52b84044",
   "metadata": {},
   "source": [
    "1)\n",
    "\\begin{equation}\n",
    "    y'' + 5y' - 6y =0\n",
    "\\end{equation}\n",
    "\n",
    "\n",
    "The equation in above is a homogeneous linear second order ODE. To solve it , we find it's characteristic equation.\n",
    "\n",
    "Let   $y = e^{mx}$   then   $y' = me^{mx}$  and  $y\" = m^2 e^{mx}$\n",
    "\n",
    "\n",
    " Making the above substitution  for $y$ in , the ODE\n",
    " \n",
    " \\begin{equation}\n",
    "     m^2 + 5m -6 = 0 \n",
    " \\end{equation}\n",
    "\n",
    "The above is a quadratic equation in terms of $m$. So simplifying,\n",
    " \\begin{equation}\n",
    "     (m -1)(m+6) = 0 \n",
    " \\end{equation}\n",
    " \n",
    "So the roots to the equation are $m_1 = 1$ and $ m_2 = -6$, which are real and distinct, hence the solutions  are of the form, $y_1 = e^{m_1 x} = e^{x} $ and  $y_2 = e^{m_2 x} =e^{-6x} $\n",
    " So the solution to the homogeneous equation is ,\n",
    " \n",
    " \\begin{equation}\\label{yhom}\n",
    "     y(x)= C_1 e^{x} + C_2e^{-6x}\n",
    " \\end{equation} \n",
    "\n",
    "Now using the the given initial values find the values of $C_1$ and $C_2$,\n",
    "\n",
    "\\begin{align}\n",
    "   y(0)&=2 \\\\\n",
    "   C_1 e^{0} + C_2e^{0}&=2\\\\\n",
    "   C_1 &= 2 - C_2\\\\\n",
    "\\end{align}  \n",
    "\n",
    "\\begin{align}\n",
    "y'(0) &= 3\\\\\n",
    "C_1 e^{-2x} -6C_2e^{-3x} &=3\\\\\n",
    "C_1 e^{0} -6C_2e^{0} &=3 \\\\\n",
    "C_1 -6C_2 &=3\\\\\n",
    "\\end{align}\n",
    "\n",
    " Hence -2(2 - C_2)-6C_2 =3\n",
    " $$ C_2 = -\\frac{1}{7}$$\n",
    " $$C_1 =\\frac{15}{7}$$\n",
    " \n",
    " So the  exact solution to the ODE is ,\n",
    " \\begin{equation}\\\n",
    "     y(x)= \\frac{15}{7} e^{x} - \\frac{1}{7}e^{-6x}\n",
    " \\end{equation}"
   ]
  },
  {
   "cell_type": "code",
   "execution_count": 1,
   "id": "9694a257",
   "metadata": {},
   "outputs": [],
   "source": [
    "import pandas as pd\n",
    "import numpy as np\n",
    "from scipy.integrate import odeint\n",
    "import matplotlib.pyplot as plt\n",
    "import seaborn as sns\n",
    "import warnings\n",
    "warnings.filterwarnings(\"ignore\")"
   ]
  },
  {
   "cell_type": "markdown",
   "id": "5766d80a",
   "metadata": {},
   "source": [
    "2) Rewriting the second order differential equation as  a first order equation, by variable substitution,\n",
    "\n",
    "$$\n",
    "\\begin{cases}\n",
    "z_0& = & y\\\\\\\\\n",
    "z_1& = & y'\\\\\\\\\n",
    "z_1'& = & y''\n",
    "\\end{cases}\n",
    "$$\n",
    "\n",
    "the result is the system of first order ODE below;\n",
    "\n",
    "$$\n",
    "\\begin{cases}\n",
    "z_1'& = & 6z_0 -5z_1\\\\\n",
    "z_0'& = z_1\\\\\\\n",
    "\\end{cases}, z_0(0) = 2 , z_1 (0) = 3\n",
    "$$"
   ]
  },
  {
   "cell_type": "code",
   "execution_count": 15,
   "id": "9cb96c0e",
   "metadata": {},
   "outputs": [
    {
     "data": {
      "image/png": "[encoded data removed]",
      "text/plain": [
       "<Figure size 432x288 with 1 Axes>"
      ]
     },
     "metadata": {
      "needs_background": "light"
     },
     "output_type": "display_data"
    }
   ],
   "source": [
    "# The Exact Solution \n",
    "\n",
    "y= lambda t: (15/7)*np.exp(x) -(1/7)*np.exp(-6*x)\n",
    "\n",
    "\n",
    "#Solving the ODE using the python function  Odeint\n",
    "\n",
    "def ODE(z,x):\n",
    "    z_0, z_1 = z\n",
    "    dz_1 = 6*z_0 - 5*z_1\n",
    "    dz_0 = z_1\n",
    "    return np.array([dz_0,dz_1])\n",
    "\n",
    "\n",
    "z0 =np.array([2,3])\n",
    "a = 0\n",
    "b = 1\n",
    "N= 100\n",
    "x = np.linspace(a,b,N+1)\n",
    "\n",
    "# solve ODE\n",
    "z = odeint(ODE,z0,x)\n",
    "\n",
    "z_0p = z[:,0]\n",
    "\n",
    "\n",
    "\n",
    "plt.plot(x,y(x),'r' , label= \"Exac\")\n",
    "plt.plot(x,z_0p,'--b',label= \"Odeint\")\n",
    "plt.xlabel('time')\n",
    "# plt.ylabel('x1(t).error')\n",
    "plt.legend()\n",
    "plt.show()\n",
    "\n",
    "\n",
    "\n"
   ]
  },
  {
   "cell_type": "markdown",
   "id": "67186ae0",
   "metadata": {},
   "source": [
    " Solving the ODE using the Runge-Kutta method\n",
    "\n",
    "\n",
    "\n",
    "\\begin{equation}\n",
    "\\begin{cases}\n",
    "k_1 = f(z_k,t_k),\\\\\\\\\n",
    "k_2 = f(z_k+H\\dfrac{k_1}{2}, t_k + \\dfrac{H}{2}),\\\\\\\\\n",
    "k_3 = f(z_k+H\\dfrac{k_2}{2}, t_k + \\dfrac{H}{2}),\\\\\\\\\n",
    "k_4 = f(z_k+Hk_3, t_k + H),\\\\\\\\\n",
    "z_{k+1} = z_k + \\dfrac{H}{6}(k_1+2k_2+2k_3+k_4)\n",
    "\\end{cases}\n",
    "\\end{equation}"
   ]
  },
  {
   "cell_type": "code",
   "execution_count": 17,
   "id": "7e5bd39f",
   "metadata": {},
   "outputs": [
    {
     "data": {
      "image/png": "[encoded data removed]",
      "text/plain": [
       "<Figure size 432x288 with 1 Axes>"
      ]
     },
     "metadata": {
      "needs_background": "light"
     },
     "output_type": "display_data"
    }
   ],
   "source": [
    "\n",
    "def Rk4(f, c,t):\n",
    "    H = t[3]-t[2]\n",
    "    N = t.shape[0]\n",
    "    M = c.shape[0]\n",
    "    Z = np.empty((N,M))\n",
    "    Z[0]= c\n",
    "    z0=c\n",
    "    for i in range(1,N):\n",
    "        k1= f(z0,t[i])\n",
    "        k2= f(z0+ H*(k1/2), t[i] + H/2)\n",
    "        k3= f(z0+ H*(k2/2), t[i] + H/2)\n",
    "        k4 =f(z0+ H*k3, t[i] + H)\n",
    "        z0 = z0 + H/6*(k1 +2*k2 +2*k3 + k4 )\n",
    "        Z[i]= z0 \n",
    "    return Z\n",
    "\n",
    "\n",
    "D=Rk4(ODE,z0,x)\n",
    "z_1Rp = D[:,0]\n",
    "plt.plot(x,y(x),'r' , label= \"Exact\")\n",
    "plt.plot(x,z_1Rp,'--b',label= \"Odeint\")\n",
    "plt.xlabel('time')\n",
    "plt.legend()\n",
    "plt.show()"
   ]
  },
  {
   "cell_type": "code",
   "execution_count": 22,
   "id": "ae1c0ca5",
   "metadata": {},
   "outputs": [
    {
     "data": {
      "image/png": "[encoded data removed]",
      "text/plain": [
       "<Figure size 432x288 with 1 Axes>"
      ]
     },
     "metadata": {
      "needs_background": "light"
     },
     "output_type": "display_data"
    }
   ],
   "source": [
    "# Error in  Odeint\n",
    "\n",
    "E1=abs(y(x)  - z_0p)\n",
    "E2=abs(y(x)  - z_1Rp)\n",
    "\n",
    "\n",
    "#Error in RK4OdeSys\n",
    "plt.plot(x,E1,'r' , label= \"EOdeint\")\n",
    "plt.plot(x,E2,'--b',label= \"ERung\")\n",
    "plt.legend()\n",
    "plt.show()                  \n",
    "                  \n",
    "                  \n",
    "                  "
   ]
  },
  {
   "cell_type": "markdown",
   "id": "8c6142ee",
   "metadata": {},
   "source": [
    "The Odeint function is better because from the graph it has smaller absolute erro with the exact solution "
   ]
  }
 ],
 "metadata": {
  "kernelspec": {
   "display_name": "Python 3",
   "language": "python",
   "name": "python3"
  },
  "language_info": {
   "codemirror_mode": {
    "name": "ipython",
    "version": 3
   },
   "file_extension": ".py",
   "mimetype": "text/x-python",
   "name": "python",
   "nbconvert_exporter": "python",
   "pygments_lexer": "ipython3",
   "version": "3.9.2"
  }
 },
 "nbformat": 4,
 "nbformat_minor": 5
}
