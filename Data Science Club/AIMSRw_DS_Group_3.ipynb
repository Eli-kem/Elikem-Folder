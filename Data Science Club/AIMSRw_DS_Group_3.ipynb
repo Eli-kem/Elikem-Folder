{
 "cells": [
  {
   "cell_type": "markdown",
   "metadata": {},
   "source": [
    "### Task: Automation some administrative processes\n",
    "\n",
    "1. Access folder data from Google drive in Colab\n",
    "2. Access course files in the subfolders\n",
    "3. Create acronyms for each course name\n",
    "4. In one workbook, create four new spreadsheets that merges the course acronyms with the unique column names in the course files."
   ]
  },
  {
   "cell_type": "code",
   "execution_count": null,
   "metadata": {
    "id": "9A77mFny0eAs"
   },
   "outputs": [],
   "source": [
    "from pydrive.auth import GoogleAuth\n",
    "frolom pydrive.drive import GoogleDrive\n",
    "from google.colab import auth\n",
    "from oauth2client.client import GoogleCredentials\n",
    "import gspread\n",
    "import pandas as pd\n"
   ]
  },
  {
   "cell_type": "code",
   "execution_count": null,
   "metadata": {
    "id": "IUieon2wCbwy"
   },
   "outputs": [],
   "source": [
    "# Authenticate and create the PyDrive client.\n",
    "# This only needs to be done once per notebook.\n",
    "auth.authenticate_user()\n",
    "gauth = GoogleAuth()\n",
    "gauth.credentials = GoogleCredentials.get_application_default()\n",
    "drive = GoogleDrive(gauth)\n",
    "gc = gspread.authorize(GoogleCredentials.get_application_default())"
   ]
  },
  {
   "cell_type": "code",
   "execution_count": null,
   "metadata": {
    "id": "hNyjqpLnbU0o"
   },
   "outputs": [],
   "source": [
    "##Task 1 List of files\n",
    "def ListsofFiles(Link):\n",
    "  SkillsFiles=[]\n",
    "  ReviewFiles=[]\n",
    "  MarksFolder= drive.ListFile({'q': \" '{}' in parents\".format(Link)}).GetList()\n",
    "  for folder in MarksFolder:\n",
    "    if folder['title']== \"Skills\":\n",
    "      Skills=drive.ListFile({'q': \" '{}' in parents\".format(folder['id'])}).GetList()\n",
    "      for file in Skills:\n",
    "        SkillsFiles.append(file['title'])\n",
    "    elif folder['title']== \"Review\":\n",
    "      Review=drive.ListFile({'q': \" '{}' in parents\".format(folder['id'])}).GetList()\n",
    "      for file in Review:\n",
    "        ReviewFiles.append(file['title'])\n",
    "   \n",
    "  return SkillsFiles, ReviewFiles"
   ]
  },
  {
   "cell_type": "code",
   "execution_count": null,
   "metadata": {
    "colab": {
     "base_uri": "https://localhost:8080/"
    },
    "id": "JyaCNZNRDDbY",
    "outputId": "b8e21ef3-01a0-44c2-f129-319219011e3c"
   },
   "outputs": [
    {
     "data": {
      "text/plain": [
       "['Programming with Python',\n",
       " 'Data assimilation',\n",
       " 'Statistical Regression with R']"
      ]
     },
     "execution_count": 44,
     "metadata": {},
     "output_type": "execute_result"
    }
   ],
   "source": [
    "SkillsFiles, ReviewFiles =ListsofFiles('1u9qt7nkJQFrcc40bIosUu3hpXA4JszoY')\n",
    "SkillsFiles\n"
   ]
  },
  {
   "cell_type": "code",
   "execution_count": null,
   "metadata": {
    "colab": {
     "base_uri": "https://localhost:8080/"
    },
    "id": "gEVfwpDeRhfg",
    "outputId": "7b3142c7-cbb8-4350-bded-f5598f237ca5"
   },
   "outputs": [
    {
     "data": {
      "text/plain": [
       "array([['Programming with Python', 'PP'],\n",
       "       ['Data assimilation', 'DA'],\n",
       "       ['Statistical Regression with R', 'SRR']], dtype='<U29')"
      ]
     },
     "execution_count": 45,
     "metadata": {},
     "output_type": "execute_result"
    }
   ],
   "source": [
    "#creating acronyms\n",
    "import numpy as np\n",
    "import regex as re\n",
    "import copy \n",
    "def fxn(stng):\n",
    "    \n",
    "    # add first letter\n",
    "    oupt = stng[0]\n",
    "      \n",
    "    # iterate over string\n",
    "    for i in range(1, len(stng)):\n",
    "        if stng[i-1] == ' ':\n",
    "            \n",
    "            # add letter next to space\n",
    "            oupt += stng[i]\n",
    "              \n",
    "    # uppercase oupt\n",
    "    oupt = oupt.upper()\n",
    "    return oupt\n",
    "def fxn_d(stng):    \n",
    "    # add first letter\n",
    "    stng=''.join(stng.split())\n",
    "    oupt = ''      \n",
    "    # iterate over string\n",
    "    for i in range(len(stng)):\n",
    "        # if stng[i] == stng.isupper() and stng[i+1] == stng.islower():\n",
    "        if stng[i].isupper() and stng[i+1].islower():   \n",
    "          # add letter next to space \n",
    "          oupt += stng[i]+stng[i+1]   \n",
    "            \n",
    "    # uppercase oupt\n",
    "    oupt = oupt.upper()\n",
    "    return oupt\n",
    "def acronym(arr):\n",
    "  cup=[]\n",
    "  up=[]\n",
    "  arr_T=[i.title() for i in arr]\n",
    "  #arr_s=[i.split('.')[0] for i in arr]\n",
    "  # # split by word 'and' space, and comma\n",
    "  result = [re.split(r\"And|For|With|By|Of|[\\s,-]+\", k) for k in arr_T]\n",
    "  arr_f=[' '.join(i) for i in result]\n",
    "  arr_c=copy.deepcopy(arr_f)\n",
    "  for j in arr_f :\n",
    "    up=fxn(j)\n",
    "    temp_l=''.join(up.split())  \n",
    "    if temp_l not in cup:      \n",
    "      cup.append(temp_l)\n",
    "    else:\n",
    "      temp_2=fxn_d(j)\n",
    "      cup.append(temp_2)\n",
    "  mat=np.array([arr,cup]).T\n",
    "  return mat,cup\n",
    "Skills, s_acr=acronym(SkillsFiles)\n",
    "Review,r_acr=acronym(ReviewFiles)\n",
    "\n",
    "Skills"
   ]
  },
  {
   "cell_type": "code",
   "execution_count": null,
   "metadata": {
    "colab": {
     "base_uri": "https://localhost:8080/"
    },
    "id": "_mkM_TkY-y4Q",
    "outputId": "826451c0-16f1-431e-9cb3-e929cd71dfe6"
   },
   "outputs": [
    {
     "name": "stderr",
     "output_type": "stream",
     "text": [
      "/usr/local/lib/python3.7/dist-packages/ipykernel_launcher.py:17: VisibleDeprecationWarning: Creating an ndarray from ragged nested sequences (which is a list-or-tuple of lists-or-tuples-or ndarrays with different lengths or shapes) is deprecated. If you meant to do this, you must specify 'dtype=object' when creating the ndarray\n"
     ]
    }
   ],
   "source": [
    "## Task 2 Read excelfiles\n",
    "# global SkillsFiles ,ReviewFiles\n",
    "def datasets(SkillsFiles,s_acr):\n",
    "  Skill_courses=[]\n",
    "  Review_courses=[]\n",
    "  SkillsDatasets=[]\n",
    "  ReviewDatasets=[]\n",
    "  for file in SkillsFiles:\n",
    "    skilldata = gc.open(file).sheet1\n",
    "    rows = skilldata.get_all_values()\n",
    "    df=pd.DataFrame.from_records(rows)\n",
    "\n",
    "    df.columns=df.iloc[0]\n",
    "    df=df.drop(0).reset_index(drop=True)\n",
    "\n",
    "    SkillsDatasets.append(df)\n",
    "  return np.array([SkillsDatasets,s_acr])\n",
    "\n",
    "  # for file in ReviewFiles:\n",
    "  #   reviewdata = gc.open(file).sheet1\n",
    "  #   rows = reviewdata.get_all_values()\n",
    "  #   df=pd.DataFrame.from_records(rows)\n",
    "  #   Review.append(df)  \n",
    "  \n",
    "\n",
    "Phase_skills=datasets(SkillsFiles,s_acr).T\n",
    "Phase_review=datasets(ReviewFiles,r_acr).T"
   ]
  },
  {
   "cell_type": "code",
   "execution_count": null,
   "metadata": {
    "id": "PxMeTfji_v36"
   },
   "outputs": [],
   "source": [
    "\n",
    "contacts = gc.open('contacts_file').sheet1\n",
    "rows = contacts.get_all_values()\n",
    "Contact=pd.DataFrame.from_records(rows)\n",
    "Contact\n",
    "Contact.columns=Contact.iloc[0]\n",
    "Contact=Contact.drop(0).reset_index(drop=True)\n",
    "\n",
    "#Contact = pd.read_excel(\"contacts_file.xlsx\")\n",
    "Grade1 = pd.DataFrame({'Name':Contact[\"Name\"],'Email':Contact[\"Email\"]})\n",
    "FinalMark =  pd.DataFrame({'Name':Contact[\"Name\"],'Email':Contact[\"Email\"]})\n",
    "FinalMark1 =  pd.DataFrame({'Name':Contact[\"Name\"],'Email':Contact[\"Email\"]})\n",
    "Grade = pd.DataFrame({'Name':Contact[\"Name\"],'Email':Contact[\"Email\"]})\n",
    "FinalSkill = [FinalMark1,Grade1,FinalMark,Grade]\n",
    "FinalReview = [FinalMark1,Grade1,FinalMark,Grade]"
   ]
  },
  {
   "cell_type": "code",
   "execution_count": null,
   "metadata": {
    "id": "VAN6LLFk77ZZ"
   },
   "outputs": [],
   "source": [
    "Namecol = [\"Final mark1\",\"Grade1\",\"Final Mark\",\"Grade\"]\n",
    "def Fusion(ListData,Final):\n",
    "    j = 0\n",
    "    for dta in Final:\n",
    "        for courses in ListData:\n",
    "            dta = pd.merge(dta,courses[0][[\"Name\",Namecol[j]]],on=[\"Name\"],how=\"outer\")\n",
    "            dta.rename(columns={Namecol[j]:courses[1]}, inplace=True)\n",
    "            dta.fillna(' ',inplace=True)\n",
    "        Final[j] = dta.loc[:,~dta.columns.duplicated()]\n",
    "        j+=1\n",
    "    return Final"
   ]
  },
  {
   "cell_type": "code",
   "execution_count": null,
   "metadata": {
    "id": "VIh_LmYg9qXa"
   },
   "outputs": [],
   "source": [
    "FinalSkill = Fusion(Phase_skills,FinalSkill)\n",
    "FinalReview = Fusion(Phase_review,FinalReview)"
   ]
  },
  {
   "cell_type": "code",
   "execution_count": null,
   "metadata": {
    "id": "-3uLhgDkAsPp"
   },
   "outputs": [],
   "source": [
    "\n"
   ]
  },
  {
   "cell_type": "code",
   "execution_count": null,
   "metadata": {
    "id": "gUqNyQlHwB4N"
   },
   "outputs": [],
   "source": []
  },
  {
   "cell_type": "code",
   "execution_count": null,
   "metadata": {
    "id": "rplYHZDVCBDl"
   },
   "outputs": [],
   "source": []
  },
  {
   "cell_type": "code",
   "execution_count": null,
   "metadata": {
    "id": "vg3FQv-fwG4u"
   },
   "outputs": [],
   "source": [
    "\n",
    "# course.to_excel(writer,sheet_name='Courses',index=False)"
   ]
  },
  {
   "cell_type": "code",
   "execution_count": null,
   "metadata": {
    "colab": {
     "base_uri": "https://localhost:8080/"
    },
    "id": "2qLfbj895k_F",
    "outputId": "4e27edd1-e52d-40f3-e108-4af92244bc4d"
   },
   "outputs": [
    {
     "name": "stdout",
     "output_type": "stream",
     "text": [
      "Drive already mounted at /content/drive; to attempt to forcibly remount, call drive.mount(\"/content/drive\", force_remount=True).\n"
     ]
    }
   ],
   "source": [
    "from google.colab import drive\n",
    "import os\n",
    "drive.mount('/content/drive')\n",
    "os.chdir('/content/drive/MyDrive/Group3')\n",
    "writer = pd.ExcelWriter('/content/drive/MyDrive/Group3/Skills_Phase.xlsx') \n",
    "writer2 = pd.ExcelWriter('/content/drive/MyDrive/Group3/Review_Phase.xlsx') "
   ]
  },
  {
   "cell_type": "code",
   "execution_count": null,
   "metadata": {
    "id": "nBgySzCSFGeq"
   },
   "outputs": [],
   "source": [
    "workbook=writer.book\n",
    "FinalSkill[3].to_excel(writer,sheet_name='Grade',index=False)   \n",
    "FinalSkill[2].to_excel(writer,sheet_name='Final Mark',index=False) \n",
    "FinalSkill[1].to_excel(writer,sheet_name='Grade1',index=False)   \n",
    "FinalSkill[0].to_excel(writer,sheet_name='Final Mark1',index=False) \n",
    "writer.save()"
   ]
  },
  {
   "cell_type": "code",
   "execution_count": null,
   "metadata": {
    "id": "nugnTgcZw9MT"
   },
   "outputs": [],
   "source": [
    "workbook=writer2.book\n",
    "FinalReview[3].to_excel(writer2,sheet_name='Grade',index=False)   \n",
    "FinalReview[2].to_excel(writer2,sheet_name='Final Mark',index=False) \n",
    "FinalReview[1].to_excel(writer2,sheet_name='Grade1',index=False)   \n",
    "FinalReview[0].to_excel(writer2,sheet_name='Final Mark1',index=False) \n",
    "writer2.save()"
   ]
  },
  {
   "cell_type": "code",
   "execution_count": null,
   "metadata": {
    "id": "SRgBynx0Fnc9"
   },
   "outputs": [],
   "source": []
  }
 ],
 "metadata": {
  "colab": {
   "collapsed_sections": [],
   "name": "DS Group 3.ipynb",
   "provenance": []
  },
  "kernelspec": {
   "display_name": "Python 3",
   "language": "python",
   "name": "python3"
  },
  "language_info": {
   "codemirror_mode": {
    "name": "ipython",
    "version": 3
   },
   "file_extension": ".py",
   "mimetype": "text/x-python",
   "name": "python",
   "nbconvert_exporter": "python",
   "pygments_lexer": "ipython3",
   "version": "3.9.2"
  }
 },
 "nbformat": 4,
 "nbformat_minor": 1
}
